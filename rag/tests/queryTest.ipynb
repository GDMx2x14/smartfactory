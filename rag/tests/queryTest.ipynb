{
 "cells": [
  {
   "cell_type": "code",
   "execution_count": 3,
   "metadata": {},
   "outputs": [
    {
     "name": "stdout",
     "output_type": "stream",
     "text": [
      "[(rdflib.term.Literal('84', datatype=rdflib.term.URIRef('http://www.w3.org/2001/XMLSchema#integer')),)]\n"
     ]
    }
   ],
   "source": [
    "from langchain_community.graphs import RdfGraph\n",
    "\n",
    "graph = RdfGraph(\n",
    "    source_file=\"docs/sa_ontology.rdf\",\n",
    "    serialization=\"xml\",\n",
    "    standard=\"rdf\"\n",
    ")\n",
    "\n",
    "graph.load_schema()\n",
    "\n",
    "query = '''PREFIX rdf: <http://www.w3.org/1999/02/22-rdf-syntax-ns#>\n",
    "PREFIX sa-ontology: <http://www.semanticweb.org/raffi/ontologies/2024/10/sa-ontology#>\n",
    "\n",
    "SELECT (COUNT(?kpi) AS ?count)\n",
    "WHERE {\n",
    "  ?kpi sa-ontology:atomic \"true\"^^xsd:boolean  .\n",
    "}\n",
    "'''\n",
    "\n",
    "\n",
    "results = graph.query(query)\n",
    "\n",
    "print(results)\n"
   ]
  },
  {
   "cell_type": "code",
   "execution_count": 4,
   "metadata": {},
   "outputs": [
    {
     "name": "stdout",
     "output_type": "stream",
     "text": [
      "PREFIX rdf: <http://www.w3.org/1999/02/22-rdf-syntax-ns#>\n",
      "PREFIX sa-ontology: <http://www.semanticweb.org/raffi/ontologies/2024/10/sa-ontology#>\n",
      "\n",
      "SELECT ?machine WHERE {\n",
      "  {?machine rdf:type sa-ontology:AssemblyMachine .}\n",
      "  UNION\n",
      "  {?machine rdf:type sa-ontology:LargeCapacityCuttingMachine .}\n",
      "  UNION\n",
      "  {?machine rdf:type sa-ontology:LaserCutter .}\n",
      "  UNION\n",
      "  {?machine rdf:type sa-ontology:LaserWeldingMachine .}\n",
      "  UNION\n",
      "  {?machine rdf:type sa-ontology:LowCapacityCuttingMachine .}\n",
      "  UNION\n",
      "  {?machine rdf:type sa-ontology:MediumCapacityCuttingMachine .}\n",
      "  UNION\n",
      "  {?machine rdf:type sa-ontology:RivetingMachine .}\n",
      "  UNION\n",
      "  {?machine rdf:type sa-ontology:TestingMachine .}\n",
      "}\n"
     ]
    }
   ],
   "source": [
    "import re\n",
    "\n",
    "query = \"\"\"PREFIX rdf: <http://www.w3.org/1999/02/22-rdf-syntax-ns#>\n",
    "PREFIX sa-ontology: <http://www.semanticweb.org/raffi/ontologies/2024/10/sa-ontology#>\n",
    "\n",
    "SELECT ?machine WHERE {\n",
    "  {?machine rdf:type sa-ontology:AssemblyMachine .}\n",
    "  UNION\n",
    "  {?machine rdf:type sa-ontology:LargeCapacityCuttingMachine .}\n",
    "  UNION\n",
    "  {?machine rdf:type sa-ontology:LaserCutter .}\n",
    "  UNION\n",
    "  {?machine rdf:type sa-ontology:LaserWeldingMachine .}\n",
    "  UNION\n",
    "  {?machine rdf:type sa-ontology:LowCapacityCuttingMachine .}\n",
    "  UNION\n",
    "  {?machine rdf:type sa-ontology:MediumCapacityCuttingMachine .}\n",
    "  UNION\n",
    "  {?machine rdf:type sa-ontology:RivetingMachine .}\n",
    "  UNION\n",
    "  {?machine rdf:type sa-ontology:TestingMachine .}\n",
    "}\n",
    "PREFIX rdf: <http://www.w3.org/1999/02/22-rdf-syntax-ns#>\n",
    "PREFIX rdfs: <http://www.w3.org/2000/01/rdf-schema#>\n",
    "PREFIX owl: <http://www.w3.org/2002/07/owl#>\n",
    "PREFIX sa-ontology: <http://www.semanticweb.org/raffi/ontologies/2024/10/sa-ontology#>\n",
    "\n",
    "SELECT ?id ?description ?formula ?unit_measure\n",
    "WHERE {\n",
    "?kpi rdf:type sa-ontology:EnergyKPI_Cost .\n",
    "?kpi sa-ontology:id ?id .\n",
    "?kpi sa-ontology:description ?description .\n",
    "?kpi sa-ontology:formula ?formula .\n",
    "?kpi sa-ontology:unit_measure ?unit_measure\n",
    "}\n",
    "\"\"\"\n",
    "\n",
    "def trim_query(query):\n",
    "    # Match everything before the WHERE clause and the WHERE clause content itself, considering nested braces\n",
    "    pattern = r\"^(.*?)(WHERE\\s*{(?:[^{}]*|{[^{}]*})*})\"\n",
    "    match = re.search(pattern, query, re.DOTALL)  # re.DOTALL allows '.' to match newline characters\n",
    "    \n",
    "    if match:\n",
    "        return match.group(1) + match.group(2)  # Return everything before WHERE and the WHERE clause content\n",
    "    \n",
    "    return query  # If no WHERE clause is found, return the original query\n",
    "\n",
    "trimmed_query = trim_query(query)\n",
    "print(trimmed_query)\n"
   ]
  },
  {
   "cell_type": "code",
   "execution_count": null,
   "metadata": {},
   "outputs": [],
   "source": []
  }
 ],
 "metadata": {
  "kernelspec": {
   "display_name": "SA",
   "language": "python",
   "name": "python3"
  },
  "language_info": {
   "codemirror_mode": {
    "name": "ipython",
    "version": 3
   },
   "file_extension": ".py",
   "mimetype": "text/x-python",
   "name": "python",
   "nbconvert_exporter": "python",
   "pygments_lexer": "ipython3",
   "version": "3.10.16"
  }
 },
 "nbformat": 4,
 "nbformat_minor": 2
}
